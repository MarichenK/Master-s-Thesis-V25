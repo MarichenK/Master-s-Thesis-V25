{
 "cells": [
  {
   "cell_type": "markdown",
   "id": "73831def",
   "metadata": {},
   "source": [
    "# Statistical Analysis\n",
    "\n",
    "### Includes Normality test (Shapiro-Wilk), Paired t-test (or) Wilcoxon signed rank, and Cohen's d."
   ]
  },
  {
   "cell_type": "code",
   "execution_count": 3,
   "id": "b5417721",
   "metadata": {},
   "outputs": [],
   "source": [
    "import numpy as np \n",
    "import matplotlib.pyplot as plt \n",
    "import scipy.stats as stats\n",
    "from scipy.stats import shapiro, ttest_rel, wilcoxon, norm"
   ]
  },
  {
   "cell_type": "code",
   "execution_count": 4,
   "id": "46c5abff",
   "metadata": {},
   "outputs": [],
   "source": [
    "#Analyze multiple metrics and plot together\n",
    "def analyze_metrics(metrics):\n",
    "    fig, axes = plt.subplots(1, len(metrics), figsize=(5 * len(metrics), 5))\n",
    "\n",
    "    if len(metrics) == 1:\n",
    "        axes = [axes]  \n",
    "\n",
    "    for i, (before, after, label) in enumerate(metrics):\n",
    "        diff = after - before\n",
    "\n",
    "        #Normality test\n",
    "        stat, p_shapiro = shapiro(diff)\n",
    "        print(f\"\\n[{label}] Shapiro-Wilk test p = {p_shapiro:.4f}\")\n",
    "\n",
    "        if p_shapiro > 0.05:\n",
    "            stat, p_value = ttest_rel(after, before)\n",
    "            test_name = \"Paired t-test\"\n",
    "        else:\n",
    "            stat, p_value = wilcoxon(after, before)\n",
    "            test_name = \"Wilcoxon signed-rank test\"\n",
    "\n",
    "        print(f\"[{label}] {test_name} p = {p_value:.4f}\")\n",
    "\n",
    "    \n",
    "        sns.histplot(diff, kde=True, ax=axes[i], stat=\"density\", color='skyblue', edgecolor='black')\n",
    "\n",
    "        #Add normal curve\n",
    "        mu = np.mean(diff)\n",
    "        sigma = np.std(diff)\n",
    "        x = np.linspace(mu - 3*sigma, mu + 3*sigma, 100)\n",
    "        axes[i].plot(x, norm.pdf(x, mu, sigma), 'r--', label='Normal Curve')\n",
    "\n",
    "        axes[i].axvline(mu, color='darkred', linestyle='-', label=f'Mean = {mu:.2f}')\n",
    "\n",
    "        axes[i].set_title(f\"{label}\", fontsize=16)\n",
    "        axes[i].set_xlabel(\"Difference (After - Before)\", fontsize=14)\n",
    "        axes[i].set_ylabel(\"Density\", fontsize=14)\n",
    "        axes[i].legend()\n",
    "\n",
    "    plt.tight_layout()\n",
    "    plt.show()\n",
    "\n",
    "\n",
    "#Cohen's d\n",
    "def cohen_d_paired(before, after):\n",
    "    diff = after - before\n",
    "    return np.mean(diff) / np.std(diff, ddof=1)"
   ]
  },
  {
   "cell_type": "markdown",
   "id": "86a721e3",
   "metadata": {},
   "source": [
    "#### Normality test (indepependent)"
   ]
  },
  {
   "cell_type": "code",
   "execution_count": 5,
   "id": "64c1cff1",
   "metadata": {},
   "outputs": [],
   "source": [
    "def check_normal_distribution(values, label=\"\"):\n",
    "    values = np.array(values)\n",
    "    \n",
    "    # Shapiro-Wilk Test\n",
    "    shapiro_stat, shapiro_p = stats.shapiro(values)\n",
    "\n",
    "    # Plot Histogram\n",
    "    plt.figure(figsize=(12, 4))\n",
    "    \n",
    "    plt.subplot(1, 2, 1)\n",
    "    plt.hist(values, bins=20, alpha=0.7, edgecolor='black')\n",
    "    plt.title(f'{label} Histogram')\n",
    "    \n",
    "    # Plot Q-Q plot\n",
    "    plt.subplot(1, 2, 2)\n",
    "    stats.probplot(values, dist=\"norm\", plot=plt)\n",
    "    plt.title(f'{label} Q-Q Plot')\n",
    "\n",
    "    plt.tight_layout()\n",
    "    plt.show()\n",
    "\n",
    "    return {\n",
    "        f\"{label}_Shapiro_p_value\": shapiro_p,\n",
    "        f\"{label}_Normal_(Shapiro)\": shapiro_p > 0.05,\n",
    "    }"
   ]
  }
 ],
 "metadata": {
  "kernelspec": {
   "display_name": "base",
   "language": "python",
   "name": "python3"
  },
  "language_info": {
   "codemirror_mode": {
    "name": "ipython",
    "version": 3
   },
   "file_extension": ".py",
   "mimetype": "text/x-python",
   "name": "python",
   "nbconvert_exporter": "python",
   "pygments_lexer": "ipython3",
   "version": "3.11.4"
  }
 },
 "nbformat": 4,
 "nbformat_minor": 5
}
