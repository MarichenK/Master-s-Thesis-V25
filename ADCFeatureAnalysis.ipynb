{
 "cells": [
  {
   "cell_type": "markdown",
   "id": "dfeb1cb4",
   "metadata": {},
   "source": [
    "# ADC Feature Analysis"
   ]
  },
  {
   "cell_type": "code",
   "execution_count": null,
   "id": "4e8bef10",
   "metadata": {},
   "outputs": [],
   "source": [
    "import SimpleITK as sitk\n",
    "import numpy as np\n",
    "import nibabel as nib\n",
    "import seaborn as sns\n",
    "import matplotlib.pyplot as plt\n",
    "import pandas as pd\n",
    "from skimage import measure\n",
    "from skimage.measure import find_contours"
   ]
  },
  {
   "cell_type": "code",
   "execution_count": null,
   "id": "5217813f",
   "metadata": {},
   "outputs": [],
   "source": [
    "feature_file = 'proviz_feature_outout'\n",
    "#Importing and reading image\n",
    "feature_image = nib.load(feature_file)\n",
    "feature_data = feature_image.get_fdata()\n",
    "\n",
    "num_slices = feature_data.shape[2]\n",
    "ROI_mask = (feature_data != 0)"
   ]
  },
  {
   "cell_type": "code",
   "execution_count": null,
   "id": "b275695b",
   "metadata": {},
   "outputs": [],
   "source": [
    "slice_stats = []\n",
    "\n",
    "for slice_idx in range(num_slices):\n",
    "    slice_data = feature_data[:, :, slice_idx]\n",
    "    min_val = np.min(slice_data)\n",
    "    mean_val = np.mean(ROI_mask[..., slice_idx])\n",
    "    min_loc = np.unravel_index(np.argmin(slice_data), slice_data.shape)\n",
    "    slice_stats.append((slice_idx, min_val, mean_val, min_loc))\n",
    "\n",
    "\n",
    "stats_df = pd.DataFrame(slice_stats, columns=['Slice Index', 'Minimum Value', 'Mean Value', 'Min Location'])\n",
    "\n",
    "cols = 5\n",
    "rows = int(np.ceil(num_slices / cols))\n",
    "\n",
    "\n",
    "fig, axes = plt.subplots(rows, cols, figsize=(15, rows * 3))\n",
    "axes = axes.flatten()  #Flatten axes for easy iteration\n",
    "\n",
    "for slice_idx in range(num_slices):\n",
    "    slice_data = feature_data[:, :, slice_idx]\n",
    "    min_loc = np.unravel_index(np.argmin(slice_data), slice_data.shape)\n",
    "\n",
    "    mask_slice = ROI_mask[:, :, slice_idx]\n",
    "    contours = find_contours(mask_slice, level=0.5)\n",
    "\n",
    "    ax = axes[slice_idx]\n",
    "    im = ax.imshow(slice_data.T, cmap='gray', origin='lower')\n",
    "    ax.scatter(min_loc[0], min_loc[1], color='red', s=30)\n",
    "\n",
    "    for contour in contours:\n",
    "        ax.plot(contour[:, 0], contour[:, 1], color='red', linewidth=1)\n",
    "\n",
    "    ax.set_title(f\"Slice {slice_idx}\")\n",
    "    ax.axis(\"off\")\n",
    "\n",
    "#Turn off any unused subplots\n",
    "for i in range(num_slices, len(axes)):\n",
    "    axes[i].axis(\"off\")\n",
    "\n",
    "plt.tight_layout()\n",
    "plt.show()\n",
    "\n",
    "mean_vals = stats_df[stats_df['Mean Value'] != 0]['Mean Value'] \n",
    "average_mean = np.sum(mean_vals)/len(mean_vals)"
   ]
  },
  {
   "cell_type": "markdown",
   "id": "ee69d07e",
   "metadata": {},
   "source": [
    "## Plotting the trends (BoxPlot)"
   ]
  },
  {
   "cell_type": "code",
   "execution_count": null,
   "id": "01f534a1",
   "metadata": {},
   "outputs": [],
   "source": [
    "Mean_10PP_mADT = np.array([]) #Array with the mean 10th percentile ADC before ADT for prostate gland\n",
    "Mean_10PP_pADT = np.array([]) #Array with the mean 10th percentile ADC after ADT for prostate gland\n",
    "Mean_10PT_mADT = np.array([]) #Array with the mean 10th percentile ADC before ADT for tumor lesion\n",
    "Mean_10PT_pADT = np.array([]) #Array with the mean 10th percentile ADC after ADT for tumor lesion\n",
    "\n",
    "Mib_stats = []\n",
    "Mib_stats.append(('Prostate (-ADT)', Mean_10PP_mADT))\n",
    "Mib_stats.append(('Prostate (+ADT)', Mean_10PP_pADT))\n",
    "Mib_stats.append(('Tumor (-ADT)', Mean_10PT_mADT))\n",
    "Mib_stats.append(('Tumor (+ADT)', Mean_10PT_pADT))\n",
    "\n",
    "Mib_df = pd.DataFrame(Mib_stats, columns=['Group', 'Mean Intensity'])\n",
    "print(Mib_df.head())\n",
    "\n",
    "#Convert to long format\n",
    "Mib_df_expanded = Mib_df.explode('Mean Intensity')\n",
    "Mib_df_expanded = Mib_df_expanded.rename(columns={'Mean Intensity': 'ADC'})\n",
    "Mib_df_expanded['ADC'] = Mib_df_expanded['ADC'].astype(float)\n",
    "\n",
    "#Set a clear color palette\n",
    "palette = {\n",
    "    'Prostate (-ADT)': 'darkorange',\n",
    "    'Prostate (+ADT)': 'peachpuff',\n",
    "    'Tumor (-ADT)': 'royalblue',\n",
    "    'Tumor (+ADT)': 'lightsteelblue'\n",
    "}\n",
    "\n",
    "plt.figure(figsize=(8, 6))\n",
    "sns.boxplot(x='Group', y='ADC', data=Mib_df_expanded, palette=palette)\n",
    "sns.swarmplot(x='Group', y='ADC', data=Mib_df_expanded, color='black', size=6, alpha=0.6)\n",
    "\n",
    "plt.title(\"Mean ADC Values of the 10th Percentile Before and After ADT\", fontsize=16)\n",
    "plt.ylabel(\"ADC Normalized\", fontsize=14)\n",
    "plt.xlabel(\"\", fontsize=14)\n",
    "plt.xticks(rotation=15)\n",
    "plt.tight_layout()\n",
    "plt.show()"
   ]
  }
 ],
 "metadata": {
  "kernelspec": {
   "display_name": "base",
   "language": "python",
   "name": "python3"
  },
  "language_info": {
   "name": "python",
   "version": "3.11.4"
  }
 },
 "nbformat": 4,
 "nbformat_minor": 5
}
